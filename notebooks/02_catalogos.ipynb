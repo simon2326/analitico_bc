{
 "cells": [
  {
   "cell_type": "markdown",
   "id": "b3406bd4",
   "metadata": {},
   "source": [
    "# **Catálogos**\n",
    "\n",
    "**Descripción:**\n",
    "\n",
    " El objetivo es determinar si el conjunto actual de catálogos es suficiente o si se podrían crear catálogos adicionales para mejorar las capacidades de filtrado en reportes futuros.\n",
    "\n",
    "**Autor:** ```Simón Correa Marín```\n",
    "\n",
    "**Fecha:** ```05/07/2025```\n"
   ]
  },
  {
   "cell_type": "markdown",
   "id": "c89724af",
   "metadata": {},
   "source": [
    "#### **Librerías**"
   ]
  },
  {
   "cell_type": "code",
   "execution_count": 1,
   "id": "1ccc8285",
   "metadata": {},
   "outputs": [],
   "source": [
    "# Librerías más importantes para el proceso de análisis exploratorio de datos (EDA)\n",
    "import pandas as pd\n",
    "import matplotlib.pyplot as plt\n",
    "from datetime import datetime"
   ]
  },
  {
   "cell_type": "markdown",
   "id": "4296a2b2",
   "metadata": {},
   "source": [
    "#### **Carga de los datos**"
   ]
  },
  {
   "cell_type": "code",
   "execution_count": 2,
   "id": "a05904ba",
   "metadata": {},
   "outputs": [
    {
     "name": "stdout",
     "output_type": "stream",
     "text": [
      "\n",
      "clientes shape: (42914, 8)\n"
     ]
    },
    {
     "data": {
      "text/html": [
       "<div>\n",
       "<style scoped>\n",
       "    .dataframe tbody tr th:only-of-type {\n",
       "        vertical-align: middle;\n",
       "    }\n",
       "\n",
       "    .dataframe tbody tr th {\n",
       "        vertical-align: top;\n",
       "    }\n",
       "\n",
       "    .dataframe thead th {\n",
       "        text-align: right;\n",
       "    }\n",
       "</style>\n",
       "<table border=\"1\" class=\"dataframe\">\n",
       "  <thead>\n",
       "    <tr style=\"text-align: right;\">\n",
       "      <th></th>\n",
       "      <th>id</th>\n",
       "      <th>cod_tip_doc</th>\n",
       "      <th>cod_genero</th>\n",
       "      <th>desc_genero</th>\n",
       "      <th>nombre</th>\n",
       "      <th>fecha_nacimiento</th>\n",
       "      <th>ingresos</th>\n",
       "      <th>cod_sucursal</th>\n",
       "    </tr>\n",
       "  </thead>\n",
       "  <tbody>\n",
       "    <tr>\n",
       "      <th>0</th>\n",
       "      <td>1092347697</td>\n",
       "      <td>1</td>\n",
       "      <td>M</td>\n",
       "      <td>Masculino</td>\n",
       "      <td>Edgar Javier VERA VERA</td>\n",
       "      <td>1995-02-04</td>\n",
       "      <td>30589665</td>\n",
       "      <td>202</td>\n",
       "    </tr>\n",
       "    <tr>\n",
       "      <th>1</th>\n",
       "      <td>1007686547</td>\n",
       "      <td>1</td>\n",
       "      <td>M</td>\n",
       "      <td>Masculino</td>\n",
       "      <td>Jordan Steven Ramirez RODRIGUEZ               ...</td>\n",
       "      <td>1986-07-17</td>\n",
       "      <td>26600681</td>\n",
       "      <td>184</td>\n",
       "    </tr>\n",
       "  </tbody>\n",
       "</table>\n",
       "</div>"
      ],
      "text/plain": [
       "           id  cod_tip_doc cod_genero desc_genero  \\\n",
       "0  1092347697            1          M   Masculino   \n",
       "1  1007686547            1          M   Masculino   \n",
       "\n",
       "                                              nombre fecha_nacimiento  \\\n",
       "0                             Edgar Javier VERA VERA       1995-02-04   \n",
       "1  Jordan Steven Ramirez RODRIGUEZ               ...       1986-07-17   \n",
       "\n",
       "   ingresos  cod_sucursal  \n",
       "0  30589665           202  \n",
       "1  26600681           184  "
      ]
     },
     "metadata": {},
     "output_type": "display_data"
    },
    {
     "name": "stdout",
     "output_type": "stream",
     "text": [
      "\n",
      "cat_tip_doc shape: (10, 2)\n"
     ]
    },
    {
     "data": {
      "text/html": [
       "<div>\n",
       "<style scoped>\n",
       "    .dataframe tbody tr th:only-of-type {\n",
       "        vertical-align: middle;\n",
       "    }\n",
       "\n",
       "    .dataframe tbody tr th {\n",
       "        vertical-align: top;\n",
       "    }\n",
       "\n",
       "    .dataframe thead th {\n",
       "        text-align: right;\n",
       "    }\n",
       "</style>\n",
       "<table border=\"1\" class=\"dataframe\">\n",
       "  <thead>\n",
       "    <tr style=\"text-align: right;\">\n",
       "      <th></th>\n",
       "      <th>cod_tip_doc</th>\n",
       "      <th>desc_tip_doc</th>\n",
       "    </tr>\n",
       "  </thead>\n",
       "  <tbody>\n",
       "    <tr>\n",
       "      <th>0</th>\n",
       "      <td>6</td>\n",
       "      <td>Id Extranjero PN</td>\n",
       "    </tr>\n",
       "    <tr>\n",
       "      <th>1</th>\n",
       "      <td>7</td>\n",
       "      <td>Id Extranjero PJ</td>\n",
       "    </tr>\n",
       "  </tbody>\n",
       "</table>\n",
       "</div>"
      ],
      "text/plain": [
       "   cod_tip_doc      desc_tip_doc\n",
       "0            6  Id Extranjero PN\n",
       "1            7  Id Extranjero PJ"
      ]
     },
     "metadata": {},
     "output_type": "display_data"
    },
    {
     "name": "stdout",
     "output_type": "stream",
     "text": [
      "\n",
      "cat_sucursal shape: (963, 4)\n"
     ]
    },
    {
     "data": {
      "text/html": [
       "<div>\n",
       "<style scoped>\n",
       "    .dataframe tbody tr th:only-of-type {\n",
       "        vertical-align: middle;\n",
       "    }\n",
       "\n",
       "    .dataframe tbody tr th {\n",
       "        vertical-align: top;\n",
       "    }\n",
       "\n",
       "    .dataframe thead th {\n",
       "        text-align: right;\n",
       "    }\n",
       "</style>\n",
       "<table border=\"1\" class=\"dataframe\">\n",
       "  <thead>\n",
       "    <tr style=\"text-align: right;\">\n",
       "      <th></th>\n",
       "      <th>cod_sucursal</th>\n",
       "      <th>desc_sucursal</th>\n",
       "      <th>cod_pais_region_zona</th>\n",
       "      <th>cod_ciudad</th>\n",
       "    </tr>\n",
       "  </thead>\n",
       "  <tbody>\n",
       "    <tr>\n",
       "      <th>0</th>\n",
       "      <td>1</td>\n",
       "      <td>Buenavista Ii</td>\n",
       "      <td>1690423</td>\n",
       "      <td>169008001000</td>\n",
       "    </tr>\n",
       "    <tr>\n",
       "      <th>1</th>\n",
       "      <td>2</td>\n",
       "      <td>20 De Julio</td>\n",
       "      <td>1690610</td>\n",
       "      <td>169011001000</td>\n",
       "    </tr>\n",
       "  </tbody>\n",
       "</table>\n",
       "</div>"
      ],
      "text/plain": [
       "   cod_sucursal                             desc_sucursal  \\\n",
       "0             1   Buenavista Ii                             \n",
       "1             2  20 De Julio                                \n",
       "\n",
       "   cod_pais_region_zona    cod_ciudad  \n",
       "0               1690423  169008001000  \n",
       "1               1690610  169011001000  "
      ]
     },
     "metadata": {},
     "output_type": "display_data"
    },
    {
     "name": "stdout",
     "output_type": "stream",
     "text": [
      "\n",
      "cat_ciudad shape: (9402, 4)\n"
     ]
    },
    {
     "data": {
      "text/html": [
       "<div>\n",
       "<style scoped>\n",
       "    .dataframe tbody tr th:only-of-type {\n",
       "        vertical-align: middle;\n",
       "    }\n",
       "\n",
       "    .dataframe tbody tr th {\n",
       "        vertical-align: top;\n",
       "    }\n",
       "\n",
       "    .dataframe thead th {\n",
       "        text-align: right;\n",
       "    }\n",
       "</style>\n",
       "<table border=\"1\" class=\"dataframe\">\n",
       "  <thead>\n",
       "    <tr style=\"text-align: right;\">\n",
       "      <th></th>\n",
       "      <th>cod_ciudad</th>\n",
       "      <th>desc_ciudad</th>\n",
       "      <th>desc_departamento</th>\n",
       "      <th>desc_pais</th>\n",
       "    </tr>\n",
       "  </thead>\n",
       "  <tbody>\n",
       "    <tr>\n",
       "      <th>0</th>\n",
       "      <td>169000000000</td>\n",
       "      <td>Sin Informacion</td>\n",
       "      <td>Sin Informacion</td>\n",
       "      <td>Colombia</td>\n",
       "    </tr>\n",
       "    <tr>\n",
       "      <th>1</th>\n",
       "      <td>169005000000</td>\n",
       "      <td>Sin Informacion</td>\n",
       "      <td>Antioquia</td>\n",
       "      <td>Colombia</td>\n",
       "    </tr>\n",
       "  </tbody>\n",
       "</table>\n",
       "</div>"
      ],
      "text/plain": [
       "     cod_ciudad      desc_ciudad desc_departamento desc_pais\n",
       "0  169000000000  Sin Informacion   Sin Informacion  Colombia\n",
       "1  169005000000  Sin Informacion         Antioquia  Colombia"
      ]
     },
     "metadata": {},
     "output_type": "display_data"
    },
    {
     "name": "stdout",
     "output_type": "stream",
     "text": [
      "\n",
      "cat_zona shape: (89, 4)\n"
     ]
    },
    {
     "data": {
      "text/html": [
       "<div>\n",
       "<style scoped>\n",
       "    .dataframe tbody tr th:only-of-type {\n",
       "        vertical-align: middle;\n",
       "    }\n",
       "\n",
       "    .dataframe tbody tr th {\n",
       "        vertical-align: top;\n",
       "    }\n",
       "\n",
       "    .dataframe thead th {\n",
       "        text-align: right;\n",
       "    }\n",
       "</style>\n",
       "<table border=\"1\" class=\"dataframe\">\n",
       "  <thead>\n",
       "    <tr style=\"text-align: right;\">\n",
       "      <th></th>\n",
       "      <th>cod_pais_region_zona</th>\n",
       "      <th>desc_zona</th>\n",
       "      <th>desc_region</th>\n",
       "      <th>desc_pais</th>\n",
       "    </tr>\n",
       "  </thead>\n",
       "  <tbody>\n",
       "    <tr>\n",
       "      <th>0</th>\n",
       "      <td>1690000</td>\n",
       "      <td>Sin Zona</td>\n",
       "      <td>Sin Región</td>\n",
       "      <td>Colombia</td>\n",
       "    </tr>\n",
       "    <tr>\n",
       "      <th>1</th>\n",
       "      <td>1690100</td>\n",
       "      <td>Sin Zona</td>\n",
       "      <td>Antioquia</td>\n",
       "      <td>Colombia</td>\n",
       "    </tr>\n",
       "  </tbody>\n",
       "</table>\n",
       "</div>"
      ],
      "text/plain": [
       "   cod_pais_region_zona desc_zona desc_region desc_pais\n",
       "0               1690000  Sin Zona  Sin Región  Colombia\n",
       "1               1690100  Sin Zona   Antioquia  Colombia"
      ]
     },
     "metadata": {},
     "output_type": "display_data"
    }
   ],
   "source": [
    "# Ruta del archivo que contiene las tablas\n",
    "ruta = r\"..\\data\\tablas_limpias_prueba.xlsx\"\n",
    "\n",
    "# Se cargan los datos desde el archivo Excel\n",
    "hojas = pd.read_excel(ruta, sheet_name=None)\n",
    "\n",
    "# Diccionario global para almacenar los DataFrames\n",
    "dfs = globals() \n",
    "\n",
    "# Se muestran las primeras filas de cada DataFrame\n",
    "for nombre, df in hojas.items():\n",
    "    dfs[nombre] = df  # Se guarda cada DataFrame como variable global\n",
    "    print(f\"\\n{nombre} shape: {df.shape}\")\n",
    "    display(df.head(2))"
   ]
  },
  {
   "cell_type": "markdown",
   "id": "8610b4f9",
   "metadata": {},
   "source": [
    "#### **Catálogos actuales**\n",
    "\n",
    "- cat_tip_doc\n",
    "- cat_sucursal\n",
    "- cat_ciudad\n",
    "- cat_zona"
   ]
  },
  {
   "cell_type": "markdown",
   "id": "94498685",
   "metadata": {},
   "source": [
    "#### **Catálogos propuestos**\n",
    "\n",
    "- cat_genero\n",
    "- cat_departamento\n",
    "- cat_pais\n",
    "- cat_region"
   ]
  },
  {
   "cell_type": "markdown",
   "id": "34ba041d",
   "metadata": {},
   "source": [
    "#### **cat_genero**"
   ]
  },
  {
   "cell_type": "code",
   "execution_count": 3,
   "id": "1746fe5a",
   "metadata": {},
   "outputs": [
    {
     "data": {
      "text/html": [
       "<div>\n",
       "<style scoped>\n",
       "    .dataframe tbody tr th:only-of-type {\n",
       "        vertical-align: middle;\n",
       "    }\n",
       "\n",
       "    .dataframe tbody tr th {\n",
       "        vertical-align: top;\n",
       "    }\n",
       "\n",
       "    .dataframe thead th {\n",
       "        text-align: right;\n",
       "    }\n",
       "</style>\n",
       "<table border=\"1\" class=\"dataframe\">\n",
       "  <thead>\n",
       "    <tr style=\"text-align: right;\">\n",
       "      <th></th>\n",
       "      <th>cod_genero</th>\n",
       "      <th>desc_genero</th>\n",
       "    </tr>\n",
       "  </thead>\n",
       "  <tbody>\n",
       "    <tr>\n",
       "      <th>0</th>\n",
       "      <td>M</td>\n",
       "      <td>Masculino</td>\n",
       "    </tr>\n",
       "    <tr>\n",
       "      <th>1</th>\n",
       "      <td>F</td>\n",
       "      <td>Femenino</td>\n",
       "    </tr>\n",
       "    <tr>\n",
       "      <th>2</th>\n",
       "      <td>N</td>\n",
       "      <td>No informa</td>\n",
       "    </tr>\n",
       "  </tbody>\n",
       "</table>\n",
       "</div>"
      ],
      "text/plain": [
       "  cod_genero desc_genero\n",
       "0          M   Masculino\n",
       "1          F    Femenino\n",
       "2          N  No informa"
      ]
     },
     "metadata": {},
     "output_type": "display_data"
    }
   ],
   "source": [
    "# Catálogo de género eliminando duplicados\n",
    "cat_genero = clientes[['cod_genero', 'desc_genero']].drop_duplicates().reset_index(drop=True)\n",
    "\n",
    "# Se verifica el catálogo creado\n",
    "display(cat_genero)"
   ]
  },
  {
   "cell_type": "code",
   "execution_count": 4,
   "id": "ca8ecfca",
   "metadata": {},
   "outputs": [
    {
     "name": "stdout",
     "output_type": "stream",
     "text": [
      "Index(['id', 'cod_tip_doc', 'cod_genero', 'nombre', 'fecha_nacimiento',\n",
      "       'ingresos', 'cod_sucursal'],\n",
      "      dtype='object')\n"
     ]
    }
   ],
   "source": [
    "# Se elimina la columna de descripción\n",
    "clientes.drop(columns=['desc_genero'], inplace=True)\n",
    "\n",
    "# Se verifican cambios\n",
    "print(clientes.columns)"
   ]
  },
  {
   "cell_type": "markdown",
   "id": "bebca1da",
   "metadata": {},
   "source": [
    "#### **Catálogos geográficos**"
   ]
  },
  {
   "cell_type": "markdown",
   "id": "c81b30c1",
   "metadata": {},
   "source": [
    "**Hallazgos**\n",
    "\n",
    "El campo cod_cuidad tiene un formato de 12 dígitos ```PPPDDDMMMCCC```\n",
    "- PPP → Código de país (ej: 169 para Colombia, 250 para Francia)\n",
    "- DDD → Departamento (solo para Colombia y países con subdivisión)\n",
    "- MMM → Municipio o unidad territorial\n",
    "- CCC → Ciudad/localidad específica (puede ser 000)"
   ]
  },
  {
   "cell_type": "code",
   "execution_count": 5,
   "id": "22a198e9",
   "metadata": {},
   "outputs": [],
   "source": [
    "# Rellenar cod_ciudad con ceros a la izquierda\n",
    "cat_ciudad[\"cod_ciudad\"] = cat_ciudad[\"cod_ciudad\"].astype(str).str.zfill(12)\n",
    "\n",
    "# Extraer códigos jerárquicos\n",
    "cat_ciudad[\"cod_pais\"] = cat_ciudad[\"cod_ciudad\"].str[0:3]\n",
    "cat_ciudad[\"cod_departamento\"] = cat_ciudad[\"cod_ciudad\"].str[3:6]\n",
    "# Si se requiere en el futuro: Municipio = [6:9], Localidad = [9:12]\n",
    "\n",
    "# Crear catálogos propuestos\n",
    "cat_pais = cat_ciudad[['cod_pais', 'desc_pais']].drop_duplicates().reset_index(drop=True)\n",
    "cat_departamento = cat_ciudad[['cod_pais', 'cod_departamento', 'desc_departamento']].drop_duplicates().reset_index(drop=True)\n",
    "\n",
    "# Limpiar cat_ciudad dejando solo información necesaria\n",
    "cat_ciudad = cat_ciudad[['cod_ciudad', 'desc_ciudad', 'cod_departamento', 'cod_pais']]"
   ]
  },
  {
   "cell_type": "markdown",
   "id": "81ba6f2f",
   "metadata": {},
   "source": [
    "**Lo mismo sucede en cat_zona, de allí podemos obtener el cod_region**\n",
    "\n",
    "```PPP RR ZZ```\n",
    "- PPP (3 dígitos): Código del país\n",
    "- RR (2 dígitos): Código de región (ej: Antioquia, Caribe, etc.)\n",
    "- ZZ (2 dígitos): Código de zona específica dentro de la región\n"
   ]
  },
  {
   "cell_type": "code",
   "execution_count": 6,
   "id": "f85270fc",
   "metadata": {},
   "outputs": [],
   "source": [
    "# Asegurar que el código tiene 7 dígitos\n",
    "cat_zona[\"cod_pais_region_zona\"] = cat_zona[\"cod_pais_region_zona\"].astype(str).str.zfill(7)\n",
    "\n",
    "# Extraer cod_pais y cod_region\n",
    "cat_zona[\"cod_pais\"] = cat_zona[\"cod_pais_region_zona\"].str[0:3]\n",
    "cat_zona[\"cod_region\"] = cat_zona[\"cod_pais_region_zona\"].str[3:5]\n",
    "cat_zona[\"cod_zona\"] = cat_zona[\"cod_pais_region_zona\"].str[5:7]\n",
    "\n",
    "# Crear catálogo de regiones\n",
    "cat_region = cat_zona[[\"cod_region\", \"desc_region\"]].drop_duplicates().reset_index(drop=True)\n",
    "\n",
    "# Limpiar cat_zona dejando solo lo necesario\n",
    "cat_zona = cat_zona[[\"cod_pais_region_zona\", \"desc_zona\", \"cod_region\", \"cod_pais\"]]"
   ]
  },
  {
   "cell_type": "code",
   "execution_count": 7,
   "id": "a051df2b",
   "metadata": {},
   "outputs": [
    {
     "name": "stdout",
     "output_type": "stream",
     "text": [
      "\n",
      "Columnas de clientes:\n",
      "['id', 'cod_tip_doc', 'cod_genero', 'nombre', 'fecha_nacimiento', 'ingresos', 'cod_sucursal']\n",
      "\n",
      "Columnas de cat_tip_doc:\n",
      "['cod_tip_doc', 'desc_tip_doc']\n",
      "\n",
      "Columnas de cat_sucursal:\n",
      "['cod_sucursal', 'desc_sucursal', 'cod_pais_region_zona', 'cod_ciudad']\n",
      "\n",
      "Columnas de cat_ciudad:\n",
      "['cod_ciudad', 'desc_ciudad', 'cod_departamento', 'cod_pais']\n",
      "\n",
      "Columnas de cat_zona:\n",
      "['cod_pais_region_zona', 'desc_zona', 'cod_region', 'cod_pais']\n",
      "\n",
      "Columnas de cat_genero:\n",
      "['cod_genero', 'desc_genero']\n",
      "\n",
      "Columnas de cat_pais:\n",
      "['cod_pais', 'desc_pais']\n",
      "\n",
      "Columnas de cat_departamento:\n",
      "['cod_pais', 'cod_departamento', 'desc_departamento']\n",
      "\n",
      "Columnas de cat_region:\n",
      "['cod_region', 'desc_region']\n"
     ]
    }
   ],
   "source": [
    "# Maestra y catálogos\n",
    "tablas = {\n",
    "    \"clientes\": clientes,\n",
    "    \"cat_tip_doc\": cat_tip_doc,\n",
    "    \"cat_sucursal\": cat_sucursal,\n",
    "    \"cat_ciudad\": cat_ciudad,\n",
    "    \"cat_zona\": cat_zona,\n",
    "    \"cat_genero\": cat_genero,\n",
    "    \"cat_pais\": cat_pais,\n",
    "    \"cat_departamento\": cat_departamento,\n",
    "    \"cat_region\": cat_region\n",
    "}\n",
    "\n",
    "# Mostrar columnas por tabla\n",
    "for nombre, df in tablas.items():\n",
    "    print(f\"\\nColumnas de {nombre}:\")\n",
    "    print(list(df.columns))\n"
   ]
  },
  {
   "cell_type": "markdown",
   "id": "f19340e2",
   "metadata": {},
   "source": [
    "**Acciones tomadas:**\n",
    "- Se creó el catálogo `cat_pais` a partir del código y nombre del país.\n",
    "- Se creó el catálogo `cat_departamento` a partir del país y departamento.\n",
    "- Se dejó `cat_ciudad` únicamente con las columnas `cod_ciudad`, `desc_ciudad`, `cod_departamento` y `cod_pais`.\n",
    "- Se creó el catálogo `cat_region` con los campos `cod_region` y `desc_region`.\n",
    "- Se eliminó la descripción redundante de país y región en la tabla `cat_zona`, manteniendo solo:\n",
    "  - `cod_pais_region_zona`, `desc_zona`, `cod_region`, `cod_pais`"
   ]
  },
  {
   "cell_type": "code",
   "execution_count": 8,
   "id": "81d90e10",
   "metadata": {},
   "outputs": [
    {
     "name": "stdout",
     "output_type": "stream",
     "text": [
      "Archivo exportado exitosamente en: ../data/tablas_finales.xlsx\n"
     ]
    }
   ],
   "source": [
    "# Se exporta a un solo archivo Excel con hojas separadas\n",
    "ruta_salida = \"../data/tablas_finales.xlsx\"\n",
    "\n",
    "with pd.ExcelWriter(ruta_salida, engine='openpyxl') as writer:\n",
    "    for nombre, df in tablas.items():\n",
    "        df.to_excel(writer, sheet_name=nombre, index=False)\n",
    "\n",
    "print(f\"Archivo exportado exitosamente en: {ruta_salida}\")"
   ]
  },
  {
   "cell_type": "code",
   "execution_count": 9,
   "id": "add4e245",
   "metadata": {},
   "outputs": [
    {
     "name": "stdout",
     "output_type": "stream",
     "text": [
      "Archivos CSV exportados exitosamente en: ../data/csv/\n"
     ]
    }
   ],
   "source": [
    "import os\n",
    "\n",
    "# Ruta de salida\n",
    "ruta_csv = \"../data/csv/\"\n",
    "os.makedirs(ruta_csv, exist_ok=True)  # Crea la carpeta si no existe\n",
    "\n",
    "# Se exporta cada tabla como archivo CSV\n",
    "for nombre, df in tablas.items():\n",
    "    ruta_archivo = os.path.join(ruta_csv, f\"{nombre}.csv\")\n",
    "    df.to_csv(ruta_archivo, index=False, encoding='utf-8-sig')  # 'utf-8-sig' para Excel\n",
    "\n",
    "print(f\"Archivos CSV exportados exitosamente en: {ruta_csv}\")"
   ]
  }
 ],
 "metadata": {
  "kernelspec": {
   "display_name": "venv",
   "language": "python",
   "name": "python3"
  },
  "language_info": {
   "codemirror_mode": {
    "name": "ipython",
    "version": 3
   },
   "file_extension": ".py",
   "mimetype": "text/x-python",
   "name": "python",
   "nbconvert_exporter": "python",
   "pygments_lexer": "ipython3",
   "version": "3.11.9"
  }
 },
 "nbformat": 4,
 "nbformat_minor": 5
}
